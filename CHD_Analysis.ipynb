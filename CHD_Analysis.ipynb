{
 "cells": [
  {
   "cell_type": "markdown",
   "metadata": {},
   "source": [
    "# Prevalence, Causes, and Treatments of Coronary Heart Disease\n",
    "### by: Chloe Gorgen"
   ]
  },
  {
   "cell_type": "code",
   "execution_count": 4,
   "metadata": {},
   "outputs": [],
   "source": [
    "from datascience import *\n",
    "import numpy as np\n",
    "\n",
    "%matplotlib inline\n",
    "import matplotlib.pyplot as plots\n",
    "plots.style.use('fivethirtyeight')\n",
    "np.set_printoptions(legacy='1.13')"
   ]
  },
  {
   "cell_type": "markdown",
   "metadata": {},
   "source": [
    "### Project Outline:\n",
    "\n",
    "* Part 1: investigate the major causes of death in the world during the past century\n",
    "* Part 2: use the Framingham Heart Study to explore the potential link between cholesterol levels and Heart Disease\n",
    "* Part 3: examine the the Nurses' Heart Study and Heart and Estrogen-Progestin Replacement Study to investigate the effects of Hormone Replacement Therapy on Heart Disease"
   ]
  },
  {
   "cell_type": "markdown",
   "metadata": {},
   "source": [
    "## Part 1: Exploring Major Causes of Death "
   ]
  },
  {
   "cell_type": "markdown",
   "metadata": {},
   "source": [
    "In order to begin our investigation of the causes and treatments of Cardiovascular disease, it is first important to quanitfy the prevalence of Cardiovascular disease among all other majorly recorded causes of death unrelated to age-related natural causes. The data from this portion of the investigation is taken from a document containing the data on the prevalence of each of the 6 leading causes of death from 1900 to 2015. The data is a condensed and aggregated version of multiple datasets collected by the NIH. The set contains 580 observations and 3 varibles: *Year*, *Cause* which indicates one of the six leading causes of death (Accidents, Cancer, Heart Disease, Influenza, Pneumonia, and Stroke), and *Age Adjusted Death Rate* which provides the death rate of each cause of death, standardized against the age of the individual who died, and then adjusted to assume the same age distribution and average life expectancy for each year. This adjusted value prevents changing population patterns and age-related causes of death from affecting the results of this investigation.\n",
    "\n",
    "The following table gives a glimpse to this data set."
   ]
  },
  {
   "cell_type": "code",
   "execution_count": 8,
   "metadata": {},
   "outputs": [
    {
     "data": {
      "text/html": [
       "<table border=\"1\" class=\"dataframe\">\n",
       "    <thead>\n",
       "        <tr>\n",
       "            <th>Year</th> <th>Cause</th> <th>Age Adjusted Death Rate</th>\n",
       "        </tr>\n",
       "    </thead>\n",
       "    <tbody>\n",
       "        <tr>\n",
       "            <td>2015</td> <td>Heart Disease          </td> <td>168.5                  </td>\n",
       "        </tr>\n",
       "        <tr>\n",
       "            <td>2015</td> <td>Cancer                 </td> <td>158.5                  </td>\n",
       "        </tr>\n",
       "        <tr>\n",
       "            <td>2015</td> <td>Stroke                 </td> <td>37.6                   </td>\n",
       "        </tr>\n",
       "        <tr>\n",
       "            <td>2015</td> <td>Accidents              </td> <td>43.2                   </td>\n",
       "        </tr>\n",
       "        <tr>\n",
       "            <td>2015</td> <td>Influenza and Pneumonia</td> <td>15.2                   </td>\n",
       "        </tr>\n",
       "        <tr>\n",
       "            <td>2014</td> <td>Heart Disease          </td> <td>167                    </td>\n",
       "        </tr>\n",
       "        <tr>\n",
       "            <td>2014</td> <td>Cancer                 </td> <td>161.2                  </td>\n",
       "        </tr>\n",
       "        <tr>\n",
       "            <td>2014</td> <td>Stroke                 </td> <td>36.5                   </td>\n",
       "        </tr>\n",
       "        <tr>\n",
       "            <td>2014</td> <td>Accidents              </td> <td>40.5                   </td>\n",
       "        </tr>\n",
       "        <tr>\n",
       "            <td>2014</td> <td>Influenza and Pneumonia</td> <td>15.1                   </td>\n",
       "        </tr>\n",
       "        <tr>\n",
       "            <td>2013</td> <td>Heart Disease          </td> <td>169.8                  </td>\n",
       "        </tr>\n",
       "        <tr>\n",
       "            <td>2013</td> <td>Cancer                 </td> <td>163.2                  </td>\n",
       "        </tr>\n",
       "        <tr>\n",
       "            <td>2013</td> <td>Stroke                 </td> <td>36.2                   </td>\n",
       "        </tr>\n",
       "        <tr>\n",
       "            <td>2013</td> <td>Accidents              </td> <td>39.4                   </td>\n",
       "        </tr>\n",
       "        <tr>\n",
       "            <td>2013</td> <td>Influenza and Pneumonia</td> <td>15.9                   </td>\n",
       "        </tr>\n",
       "    </tbody>\n",
       "</table>\n",
       "<p>... (565 rows omitted)</p>"
      ],
      "text/plain": [
       "<IPython.core.display.HTML object>"
      ]
     },
     "metadata": {},
     "output_type": "display_data"
    }
   ],
   "source": [
    "causes_of_death = Table.read_table('causes_of_death.csv')\n",
    "causes_of_death.show(15)"
   ]
  },
  {
   "cell_type": "markdown",
   "metadata": {},
   "source": [
    "Now we can begin investigating how these leading causes of death changed in prevalence over time. The table below contains one column for each cause of death and one row for each year. This table was then used to plot each cause of death by Age Adjusted Death Rate over time."
   ]
  },
  {
   "cell_type": "code",
   "execution_count": 7,
   "metadata": {},
   "outputs": [],
   "source": [
    "def first(x):\n",
    "    return x.item(0)"
   ]
  },
  {
   "cell_type": "code",
   "execution_count": 41,
   "metadata": {
    "for_assignment_type": "student",
    "manual_problem_id": "part_1_plot_causes"
   },
   "outputs": [
    {
     "data": {
      "text/html": [
       "<table border=\"1\" class=\"dataframe\">\n",
       "    <thead>\n",
       "        <tr>\n",
       "            <th>Year</th> <th>Accidents</th> <th>Cancer</th> <th>Heart Disease</th> <th>Influenza and Pneumonia</th> <th>Stroke</th>\n",
       "        </tr>\n",
       "    </thead>\n",
       "    <tbody>\n",
       "        <tr>\n",
       "            <td>1900</td> <td>90.3     </td> <td>114.8 </td> <td>265.4        </td> <td>297.5                  </td> <td>244.2 </td>\n",
       "        </tr>\n",
       "        <tr>\n",
       "            <td>1901</td> <td>109.3    </td> <td>118.1 </td> <td>272.6        </td> <td>312.9                  </td> <td>243.6 </td>\n",
       "        </tr>\n",
       "        <tr>\n",
       "            <td>1902</td> <td>93.6     </td> <td>119.7 </td> <td>285.2        </td> <td>219.3                  </td> <td>237.8 </td>\n",
       "        </tr>\n",
       "        <tr>\n",
       "            <td>1903</td> <td>106.9    </td> <td>125.2 </td> <td>304.5        </td> <td>251.1                  </td> <td>244.6 </td>\n",
       "        </tr>\n",
       "        <tr>\n",
       "            <td>1904</td> <td>112.8    </td> <td>127.9 </td> <td>331.5        </td> <td>291.2                  </td> <td>255.2 </td>\n",
       "        </tr>\n",
       "    </tbody>\n",
       "</table>\n",
       "<p>... (111 rows omitted)</p>"
      ],
      "text/plain": [
       "<IPython.core.display.HTML object>"
      ]
     },
     "metadata": {},
     "output_type": "display_data"
    }
   ],
   "source": [
    "causes_for_plotting = causes_of_death.pivot('Cause', 'Year', values='Age Adjusted Death Rate', collect=first)\n",
    "causes_for_plotting.show(5)"
   ]
  },
  {
   "cell_type": "code",
   "execution_count": 45,
   "metadata": {
    "for_assignment_type": "solution",
    "scrolled": true
   },
   "outputs": [
    {
     "data": {
      "image/png": "[encoded data removed]",
      "text/plain": [
       "<Figure size 432x432 with 1 Axes>"
      ]
     },
     "metadata": {},
     "output_type": "display_data"
    }
   ],
   "source": [
    "causes_for_plotting.plot('Year')"
   ]
  },
  {
   "cell_type": "markdown",
   "metadata": {},
   "source": [
    "The graph above shows that deaths related to infections have gone down over time, and deaths related to chronic illness has increased. This phenomenon is known as the epidemiological transition - in developed countries, the severity of infectious disease has decreased, but chronic disease has become more widespread. Coronary heart disease (CHD) is one of the most deadly chronic diseases that has emerged in the past century, and more healthcare resources have been invested to studying it.\n"
   ]
  },
  {
   "cell_type": "markdown",
   "metadata": {},
   "source": [
    "## Part 2: Causes of Heart Disease"
   ]
  },
  {
   "cell_type": "markdown",
   "metadata": {},
   "source": [
    "The [Framingham Heart Study](https://en.wikipedia.org/wiki/Framingham_Heart_Study) is an observational study of cardiovascular health. The initial study followed over 5,000 volunteers for several decades. The data set contains 3,842 observations (participants) and includes 8 variables. THe first 7 record information about the participant recorded at the time of inclusion in the study: _AGE_, _SYSBP_ representing the Systalic Blood Pressure, _DIABP_ which represents the Diastalic Blood Pressure, _TOTCHOL_ or measured total cholesterol, _CURSMOKE_ or current smoker status, _DIABETES_ (binomial 0, 1 for false, true), _GLUCOSE_, and _DEATH_ which records whether or not the participant has died. The last variable _ANYCHD_ records whether or not the particiapnt developed any form of heart disease over the vourse of the study. Although the original study contains 5000 participants, any participants who began the study with heart disease has been removed to better investigate the causes of Heart Disease.\n",
    "\n",
    "The table below gives a glimpse of the data set used in this portion of my investigaiton."
   ]
  },
  {
   "cell_type": "code",
   "execution_count": 15,
   "metadata": {},
   "outputs": [
    {
     "data": {
      "text/html": [
       "<table border=\"1\" class=\"dataframe\">\n",
       "    <thead>\n",
       "        <tr>\n",
       "            <th>AGE</th> <th>SYSBP</th> <th>DIABP</th> <th>TOTCHOL</th> <th>CURSMOKE</th> <th>DIABETES</th> <th>GLUCOSE</th> <th>DEATH</th> <th>ANYCHD</th>\n",
       "        </tr>\n",
       "    </thead>\n",
       "    <tbody>\n",
       "        <tr>\n",
       "            <td>39  </td> <td>106  </td> <td>70   </td> <td>195    </td> <td>0       </td> <td>0       </td> <td>77     </td> <td>0    </td> <td>1     </td>\n",
       "        </tr>\n",
       "        <tr>\n",
       "            <td>46  </td> <td>121  </td> <td>81   </td> <td>250    </td> <td>0       </td> <td>0       </td> <td>76     </td> <td>0    </td> <td>0     </td>\n",
       "        </tr>\n",
       "        <tr>\n",
       "            <td>48  </td> <td>127.5</td> <td>80   </td> <td>245    </td> <td>1       </td> <td>0       </td> <td>70     </td> <td>0    </td> <td>0     </td>\n",
       "        </tr>\n",
       "        <tr>\n",
       "            <td>61  </td> <td>150  </td> <td>95   </td> <td>225    </td> <td>1       </td> <td>0       </td> <td>103    </td> <td>1    </td> <td>0     </td>\n",
       "        </tr>\n",
       "        <tr>\n",
       "            <td>46  </td> <td>130  </td> <td>84   </td> <td>285    </td> <td>1       </td> <td>0       </td> <td>85     </td> <td>0    </td> <td>0     </td>\n",
       "        </tr>\n",
       "        <tr>\n",
       "            <td>43  </td> <td>180  </td> <td>110  </td> <td>228    </td> <td>0       </td> <td>0       </td> <td>99     </td> <td>0    </td> <td>1     </td>\n",
       "        </tr>\n",
       "        <tr>\n",
       "            <td>63  </td> <td>138  </td> <td>71   </td> <td>205    </td> <td>0       </td> <td>0       </td> <td>85     </td> <td>0    </td> <td>1     </td>\n",
       "        </tr>\n",
       "        <tr>\n",
       "            <td>45  </td> <td>100  </td> <td>71   </td> <td>313    </td> <td>1       </td> <td>0       </td> <td>78     </td> <td>0    </td> <td>0     </td>\n",
       "        </tr>\n",
       "        <tr>\n",
       "            <td>52  </td> <td>141.5</td> <td>89   </td> <td>260    </td> <td>0       </td> <td>0       </td> <td>79     </td> <td>0    </td> <td>0     </td>\n",
       "        </tr>\n",
       "        <tr>\n",
       "            <td>43  </td> <td>162  </td> <td>107  </td> <td>225    </td> <td>1       </td> <td>0       </td> <td>88     </td> <td>0    </td> <td>0     </td>\n",
       "        </tr>\n",
       "    </tbody>\n",
       "</table>\n",
       "<p>... (3832 rows omitted)</p>"
      ],
      "text/plain": [
       "AGE  | SYSBP | DIABP | TOTCHOL | CURSMOKE | DIABETES | GLUCOSE | DEATH | ANYCHD\n",
       "39   | 106   | 70    | 195     | 0        | 0        | 77      | 0     | 1\n",
       "46   | 121   | 81    | 250     | 0        | 0        | 76      | 0     | 0\n",
       "48   | 127.5 | 80    | 245     | 1        | 0        | 70      | 0     | 0\n",
       "61   | 150   | 95    | 225     | 1        | 0        | 103     | 1     | 0\n",
       "46   | 130   | 84    | 285     | 1        | 0        | 85      | 0     | 0\n",
       "43   | 180   | 110   | 228     | 0        | 0        | 99      | 0     | 1\n",
       "63   | 138   | 71    | 205     | 0        | 0        | 85      | 0     | 1\n",
       "45   | 100   | 71    | 313     | 1        | 0        | 78      | 0     | 0\n",
       "52   | 141.5 | 89    | 260     | 0        | 0        | 79      | 0     | 0\n",
       "43   | 162   | 107   | 225     | 1        | 0        | 88      | 0     | 0\n",
       "... (3832 rows omitted)"
      ]
     },
     "execution_count": 15,
     "metadata": {},
     "output_type": "execute_result"
    }
   ],
   "source": [
    "framingham = Table.read_table('framingham.csv')\n",
    "framingham"
   ]
  },
  {
   "cell_type": "markdown",
   "metadata": {},
   "source": [
    "### Section 1: Assessing Sample Generalizability"
   ]
  },
  {
   "cell_type": "markdown",
   "metadata": {},
   "source": [
    "One of the ways we can assess whether the health of the participants (and therefore our results) is representative of the populaiton is to cheack whether the prevalence of one of the recorded variables matches the prevalence of that characteristic in the population. [According to the CDC](https://www.cdc.gov/diabetes/statistics/slides/long_term_trends.pdf), the prevalence of diagnosed diabetes in the U.S. around the time of this study was 0.93%. We are going to conduct a hypothesis test with the following null and alternative hypotheses:\n",
    "\n",
    "**Null Hypothesis**: The probability that a participant within the Framingham Study has diabetes is equivalent to the prevalence of diagnosed diabetes within the population.\n",
    "\n",
    "**Alternative Hypothesis**: The probability that a participant within the Framingham Study has diabetes is different than the prevalence of diagnosed diabetes within the population."
   ]
  },
  {
   "cell_type": "markdown",
   "metadata": {},
   "source": [
    "Observed prevalence of diabetes in the Framingham Study:"
   ]
  },
  {
   "cell_type": "code",
   "execution_count": 16,
   "metadata": {
    "for_assignment_type": "solution"
   },
   "outputs": [
    {
     "data": {
      "text/plain": [
       "0.01802951587714732"
      ]
     },
     "execution_count": 16,
     "metadata": {},
     "output_type": "execute_result"
    }
   ],
   "source": [
    "diabetes = framingham.where('DIABETES', are.equal_to(1)).num_rows\n",
    "\n",
    "no_diabetes = framingham.where('DIABETES', are.equal_to(0)).num_rows\n",
    "\n",
    "observed_diabetes_prevalanece = diabetes/ (diabetes + no_diabetes)\n",
    "\n",
    "observed_diabetes_distance = abs(.0093 - observed_diabetes_prevalanece)\n",
    "observed_diabetes_distance"
   ]
  },
  {
   "cell_type": "markdown",
   "metadata": {},
   "source": [
    "The following code creates an array of 5,000 simulated statistics of the absolute difference between the prevalence of diabetes in a new simulated study group (resampled from the Framingham study with replacement with the same size as the Framingham study). Then, this array is converted to a histogram of the simulated values, along with the observed value. The observed value is marked in red for comparison."
   ]
  },
  {
   "cell_type": "code",
   "execution_count": 17,
   "metadata": {},
   "outputs": [
    {
     "data": {
      "text/plain": [
       "array([ 0.00175185,  0.00019016,  0.0003304 , ...,  0.00059068,\n",
       "        0.00137153,  0.000971  ])"
      ]
     },
     "execution_count": 17,
     "metadata": {},
     "output_type": "execute_result"
    }
   ],
   "source": [
    "diabetes_proportions = make_array(.9907, .0093)\n",
    "\n",
    "def diabetes_statistic():\n",
    "    diabetes_sample = sample_proportions(3842, diabetes_proportions)\n",
    "    diabetes_statistic = abs(.0093 - diabetes_sample.item(1))\n",
    "    return diabetes_statistic\n",
    "\n",
    "\n",
    "diabetes_simulated_stats = make_array()\n",
    "\n",
    "for i in np.arange(5000): \n",
    "    diabetes_simulated_stats = np.append(diabetes_simulated_stats, diabetes_statistic())\n",
    "    \n",
    "diabetes_simulated_stats"
   ]
  },
  {
   "cell_type": "code",
   "execution_count": 20,
   "metadata": {
    "export_pdf": true
   },
   "outputs": [
    {
     "data": {
      "image/png": "[encoded data removed]",
      "text/plain": [
       "<Figure size 432x288 with 1 Axes>"
      ]
     },
     "metadata": {},
     "output_type": "display_data"
    }
   ],
   "source": [
    "Table().with_column('Simulated distance to true prevalence', diabetes_simulated_stats).hist()\n",
    "plots.plot([observed_diabetes_distance, observed_diabetes_distance], [0, 500], color='red', lw=2);"
   ]
  },
  {
   "cell_type": "markdown",
   "metadata": {
    "export_pdf": true,
    "manual_problem_id": "part_2_null"
   },
   "source": [
    "The observed value falls far from what we would expect by chance, illustrated by the distribution under the null. Therefore, we reject the null hypothesis and conclude that the probability of a Framingham resident being diagnosed with diabeted is very different from that of the population.\n",
    "\n",
    "In the context of this hypothesis test, the results of further investigation should be taken with the results of other studies and cross-validated before used in trying to understand the causes of Heart Disease."
   ]
  },
  {
   "cell_type": "markdown",
   "metadata": {},
   "source": [
    "### Section 2: Cholesterol and Heart Disease"
   ]
  },
  {
   "cell_type": "markdown",
   "metadata": {},
   "source": [
    "One of the leading hypothesis within the scientific community is that there is a strong association between elevated cholesterol and increased risk of developing Heart Disease. This relationship can be further explored among the participants of the Framingham study. This hypothesis test will use A/B testing to generate its results.\n",
    "\n",
    "**Null Hypothesis:** In the population, the distribution of cholesterol levels among those who get heart disease is the same as the distribution of cholesterol levels among those who do not.\n",
    "\n",
    "**Alternative Hypothesis:** The cholesterol levels of people in the population who get\n",
    "heart disease are higher, on average, than the cholesterol level of people who do not."
   ]
  },
  {
   "cell_type": "markdown",
   "metadata": {
    "export_pdf": true,
    "manual_problem_id": "part_2_ts"
   },
   "source": [
    "The test statistic is going to be the Total Variation Distance between the cholesterol levels of those with and those without heart disease. If the null hypothesis is correct, then the TVD between the two groups and the TVD when the labels are shuffled should be similar and close to 0. The following code computes and prints the test statistic."
   ]
  },
  {
   "cell_type": "code",
   "execution_count": 53,
   "metadata": {
    "for_assignment_type": "solution"
   },
   "outputs": [
    {
     "data": {
      "text/plain": [
       "16.635919905689406"
      ]
     },
     "execution_count": 53,
     "metadata": {},
     "output_type": "execute_result"
    }
   ],
   "source": [
    "def compute_framingham_test_statistic(tbl):\n",
    "    with_chd = tbl.where('ANYCHD', 1)\n",
    "    without_chd = tbl.where('ANYCHD', 0)\n",
    "    cholesterol_with_chd = np.mean(with_chd.column('TOTCHOL'))\n",
    "    cholesterol_without_chd = np.mean(without_chd.column('TOTCHOL'))\n",
    "    return (cholesterol_with_chd - cholesterol_without_chd)\n",
    "\n",
    "framingham_observed_statistic = compute_framingham_test_statistic(framingham)\n",
    "framingham_observed_statistic"
   ]
  },
  {
   "cell_type": "markdown",
   "metadata": {},
   "source": [
    "Now that we have the observed Total Variation Distance, the labels of _ANYCHD_ were shuffled and a simulation loop was run to generate 100 test statistics from resampled sets. These sets were sampled to be the same size as the original Framingham study set and were sampled from those participants with replacement. The 100 simulated test statistics were then used to generate a histogram, over which the observed value was drawn in red for comparison.\n",
    "\n",
    "This test will determine if the observed statistic is significant by comparing it to 100 possible results if the assignment of _ANYCHD_ were due to chance.\n"
   ]
  },
  {
   "cell_type": "markdown",
   "metadata": {
    "editable": false
   },
   "source": [
    "<!--\n",
    "BEGIN QUESTION\n",
    "name: q2_2_4\n",
    "manual: false\n",
    "-->"
   ]
  },
  {
   "cell_type": "code",
   "execution_count": 70,
   "metadata": {
    "for_assignment_type": "solution"
   },
   "outputs": [
    {
     "data": {
      "text/plain": [
       "0.70497522947408697"
      ]
     },
     "execution_count": 70,
     "metadata": {},
     "output_type": "execute_result"
    }
   ],
   "source": [
    "def simulate_framingham_null():\n",
    "    shuffled = framingham.sample(with_replacement=True).column('ANYCHD')\n",
    "    bootstrap = framingham.drop('ANYCHD').with_column('Shuffled ANYCHD', shuffled)\n",
    "    bootstrap_with_chd = bootstrap.where('Shuffled ANYCHD', 1)\n",
    "    bootstrap_without_chd = bootstrap.where('Shuffled ANYCHD', 0)\n",
    "    bootstrap_cholesterol_with_chd = np.mean(bootstrap_with_chd.column('TOTCHOL'))\n",
    "    bootstrap_cholesterol_without_chd = np.mean(bootstrap_without_chd.column('TOTCHOL'))\n",
    "    return (bootstrap_cholesterol_with_chd - bootstrap_cholesterol_without_chd)\n",
    "    \n",
    "framingham_simulated_stats = make_array()\n",
    "\n",
    "for i in np.arange(100):\n",
    "    one_test_stat = simulate_framingham_null()\n",
    "    framingham_simulated_stats = np.append(one_test_stat, framingham_simulated_stats)"
   ]
  },
  {
   "cell_type": "code",
   "execution_count": 103,
   "metadata": {
    "export_pdf": true,
    "manual_problem_id": "disease_q_4_1_6"
   },
   "outputs": [
    {
     "data": {
      "image/png": "[encoded data removed]",
      "text/plain": [
       "<Figure size 432x288 with 1 Axes>"
      ]
     },
     "metadata": {},
     "output_type": "display_data"
    }
   ],
   "source": [
    "Table().with_column('Simulated statistics', framingham_simulated_stats).hist()\n",
    "plots.plot([framingham_observed_statistic, framingham_observed_statistic], [0, 0.2], color='red', lw=2);"
   ]
  },
  {
   "cell_type": "markdown",
   "metadata": {},
   "source": [
    "The p-value is calculated below. This p-value, as well as the histogram, indicate that the Total Variation Distance between the cholesterol levels of those with and without Heart Disease is not due to chance, and there is a relationship between the cholesterol levels and the presence of Heart Disease. "
   ]
  },
  {
   "cell_type": "code",
   "execution_count": 104,
   "metadata": {
    "for_assignment_type": "solution"
   },
   "outputs": [
    {
     "data": {
      "text/plain": [
       "0.0"
      ]
     },
     "execution_count": 104,
     "metadata": {},
     "output_type": "execute_result"
    }
   ],
   "source": [
    "framingham_p_value = np.count_nonzero(framingham_simulated_stats >= framingham_observed_statistic) / 100\n",
    "framingham_p_value"
   ]
  },
  {
   "cell_type": "markdown",
   "metadata": {
    "export_pdf": true,
    "manual_problem_id": "disease_2_1"
   },
   "source": [
    "Even though the p value from this trial is extremely high, it cannot be used to show that cholesterol causes heart disease because it only proves that the average cholesterol levels of those with heart disease are higher than those who arent. Additionally, because the data was collected from an observational study, the higher levels of cholesterol could be affected by any number of confounding variables."
   ]
  },
  {
   "cell_type": "markdown",
   "metadata": {},
   "source": [
    "## Part 3: Hormone Replacement Therapy for Treatment"
   ]
  },
  {
   "cell_type": "markdown",
   "metadata": {},
   "source": [
    "### Section 1: The Nurses' Health Study"
   ]
  },
  {
   "cell_type": "markdown",
   "metadata": {},
   "source": [
    "The Nurses' Health Study (NHS) is an observational study which began in 1976 by Dr. Frank Speizer and continues to this day, with questionnaires that were mailed to 121,964 female registered nurses in the United States asking about their medical history, cholesterol and blood pressure, current medications, etc. The study's initial focus was on investigating the long-term health effects of oral contraceptives, but the focus soon expanded to investigating a wide variety of questions on women's health. \n",
    "\n",
    "The NHS found that HRT in postmenopausal women was negatively associated with heart attack risk. In a 1985 paper in the *New England Journal of Medicine* (NEJM), Speizer and his coauthors wrote that\n",
    "> As compared with the risk in women who had never used postmenopausal hormones, the age-adjusted relative risk of coronary disease in those who had ever used them was 0.5 (95 per cent confidence limits, 0.3 and 0.8; P = 0.007)... These data support the hypothesis that the postmenopausal use of estrogen reduces the risk of severe coronary heart disease. [(Stampfer et al., 1985)](https://www.ncbi.nlm.nih.gov/pubmed/4047106)\n",
    "\n"
   ]
  },
  {
   "cell_type": "markdown",
   "metadata": {},
   "source": [
    "**The scientists running the NHS wanted to compare post-menopausal women who had taken HRT with post-menopausal women who had never taken HRT, excluding all women who were not post-menopausal or who had previously suffered a heart attack.**"
   ]
  },
  {
   "cell_type": "markdown",
   "metadata": {},
   "source": [
    "The table below which was created from the raw NHS data includes 105,787 observations with 2 vaiables: _HRT_ or the status of taking Hormone Replacement Therapy, and _Heart Attack_ which tells whether or not they had a Heart Attack while participating in the study. In order to account for all of the reasons someone may drop out of the study, and the amount of time each participant participated in the study, each observation represents a person-year, creating a different observation for each year that someone participated in the study. Therefore, the _Heart Attack_ variable indicates whether or not that participant experienced a heart attack suring that year of their participation. \n",
    "\n",
    "It reports 51,478 total person-years at risk in the no-HRT group with 60 heart attacks occurring in total, as well as 54,309 person-years at risk in the HRT group with 30 heart attacks occurring in total. A glimpse of the data is shown below."
   ]
  },
  {
   "cell_type": "code",
   "execution_count": 7,
   "metadata": {},
   "outputs": [
    {
     "data": {
      "text/html": [
       "<table border=\"1\" class=\"dataframe\">\n",
       "    <thead>\n",
       "        <tr>\n",
       "            <th>HRT</th> <th>Heart Attack</th>\n",
       "        </tr>\n",
       "    </thead>\n",
       "    <tbody>\n",
       "        <tr>\n",
       "            <td>0   </td> <td>0           </td>\n",
       "        </tr>\n",
       "        <tr>\n",
       "            <td>0   </td> <td>0           </td>\n",
       "        </tr>\n",
       "        <tr>\n",
       "            <td>0   </td> <td>0           </td>\n",
       "        </tr>\n",
       "        <tr>\n",
       "            <td>0   </td> <td>0           </td>\n",
       "        </tr>\n",
       "        <tr>\n",
       "            <td>0   </td> <td>0           </td>\n",
       "        </tr>\n",
       "        <tr>\n",
       "            <td>0   </td> <td>0           </td>\n",
       "        </tr>\n",
       "        <tr>\n",
       "            <td>0   </td> <td>0           </td>\n",
       "        </tr>\n",
       "        <tr>\n",
       "            <td>0   </td> <td>0           </td>\n",
       "        </tr>\n",
       "        <tr>\n",
       "            <td>0   </td> <td>0           </td>\n",
       "        </tr>\n",
       "        <tr>\n",
       "            <td>0   </td> <td>0           </td>\n",
       "        </tr>\n",
       "        <tr>\n",
       "            <td>0   </td> <td>0           </td>\n",
       "        </tr>\n",
       "        <tr>\n",
       "            <td>0   </td> <td>0           </td>\n",
       "        </tr>\n",
       "        <tr>\n",
       "            <td>0   </td> <td>0           </td>\n",
       "        </tr>\n",
       "        <tr>\n",
       "            <td>0   </td> <td>0           </td>\n",
       "        </tr>\n",
       "        <tr>\n",
       "            <td>0   </td> <td>0           </td>\n",
       "        </tr>\n",
       "    </tbody>\n",
       "</table>\n",
       "<p>... (105772 rows omitted)</p>"
      ],
      "text/plain": [
       "<IPython.core.display.HTML object>"
      ]
     },
     "metadata": {},
     "output_type": "display_data"
    }
   ],
   "source": [
    "NHS = Table.read_table('NHS.csv')\n",
    "NHS.show(15)"
   ]
  },
  {
   "cell_type": "markdown",
   "metadata": {},
   "source": [
    "Using the NHS data, we can now conduct a hypothesis test to investigate the relationship between HRT and risk of CHD. We'll set up the test as follows:\n",
    "\n",
    "> **Null Hypothesis:** HRT does not affect the risk of CHD, and the true relative risk is equal to 1. Any deviation is due to random chance\n",
    "\n",
    "> **Alternative Hypothesis:** HRT decreases the risk of CHD, and the true relative risk is less than 1.\n",
    "\n",
    "> **Test Statistic:** Relative risk of CHD between post-menopausal women receiving HRT and post-menopausal women not receiving HRT (the definition of relative risk is repeated here for your convenience):\n",
    "\n",
    "$$\\text{Relative Risk} = \\frac{\\text{Hazard Rate(Treatment Group)}}{\\text{Hazard Rate(Control Group)}}$$\n",
    "\n"
   ]
  },
  {
   "cell_type": "markdown",
   "metadata": {
    "export_pdf": true,
    "manual_problem_id": "disease_2_1"
   },
   "source": [
    "The code below calculates the relative risk of the participants included in the table NHS. This value will represent the observed value which will be used against simulated relative risk statistics in testing the hypotheses."
   ]
  },
  {
   "cell_type": "code",
   "execution_count": 8,
   "metadata": {},
   "outputs": [
    {
     "data": {
      "text/plain": [
       "0.47393618000699694"
      ]
     },
     "execution_count": 8,
     "metadata": {},
     "output_type": "execute_result"
    }
   ],
   "source": [
    "def relative_risk(tbl):\n",
    "    \"\"\"Return the ratio of the hazard rates (events per person-year) for the two groups\"\"\"\n",
    "    treatment_hazard = tbl.where('HRT', are.equal_to(1)).where('Heart Attack', are.equal_to(1)).num_rows/ tbl.where(\"HRT\", are.equal_to(1)).num_rows\n",
    "    control_hazard = tbl.where('HRT', are.equal_to(0)).where('Heart Attack', are.equal_to(1)).num_rows/ tbl.where(\"HRT\", are.equal_to(0)).num_rows\n",
    "    return treatment_hazard / control_hazard\n",
    "relative_risk(NHS)"
   ]
  },
  {
   "cell_type": "markdown",
   "metadata": {},
   "source": [
    "Further, the code below creates an array of simulated results r=using sampling with replacement (or bootstrapping). "
   ]
  },
  {
   "cell_type": "code",
   "execution_count": 10,
   "metadata": {},
   "outputs": [
    {
     "name": "stdout",
     "output_type": "stream",
     "text": [
      "Middle 95% of bootstrappped relative risks: [0.332459, 0.491877]\n"
     ]
    }
   ],
   "source": [
    "def one_bootstrap_rr():\n",
    "    return bootstrap_rrs\n",
    "\n",
    "bootstrap_rrs = make_array()\n",
    "for i in np.arange(14):\n",
    "    new_bootstrap_rr = relative_risk(NHS.sample())\n",
    "    bootstrap_rrs = np.append(bootstrap_rrs, new_bootstrap_rr)\n",
    "\n",
    "bootstrap_rrs_from_tbl = Table.read_table('bootstrap_rrs.csv').column(0)\n",
    "ci_left = percentile(2.5, bootstrap_rrs)\n",
    "ci_right = percentile(97.5, bootstrap_rrs)\n",
    "\n",
    "print(\"Middle 95% of bootstrappped relative risks: [{:f}, {:f}]\".format(ci_left, ci_right))"
   ]
  },
  {
   "cell_type": "markdown",
   "metadata": {},
   "source": [
    "The code below plots the confidence interval on top of a histogram of the range of possible values calcualted by the simulation."
   ]
  },
  {
   "cell_type": "code",
   "execution_count": 11,
   "metadata": {},
   "outputs": [
    {
     "data": {
      "image/png": "[encoded data removed]",
      "text/plain": [
       "<Figure size 432x288 with 1 Axes>"
      ]
     },
     "metadata": {},
     "output_type": "display_data"
    }
   ],
   "source": [
    "Table().with_column(\"Relative Risks\", bootstrap_rrs_from_tbl).hist()\n",
    "plots.plot([ci_left, ci_right], [.05,.05], color=\"gold\");"
   ]
  },
  {
   "cell_type": "markdown",
   "metadata": {
    "export_pdf": true
   },
   "source": [
    "From this test we can conclude that HRT is associated with a reduced risk of heart attacks. Our 95% confidence interval (0.3, 0.8) doesn't contain our null value (risk ratio = 1), which allows us to assume that the population value probably is less than 1. The study design is observational, where a group of people is followed for a period of time and their condition is monitored—however, the researchers didn't actually give certain women HRT, so it's not an experiment. Only experiments show causation, so we cannot say that HRT caused a change in risk of heart attacks, only that it is associated with a reduced risk.\n"
   ]
  },
  {
   "cell_type": "markdown",
   "metadata": {},
   "source": [
    "### Section 2: The Heart and Estrogen-Progestin Replacement Study"
   ]
  },
  {
   "cell_type": "markdown",
   "metadata": {},
   "source": [
    "The Heart and Estrogen-Progestin Replacement Study (HERS) was a randomized controlled trial carried out by the Women's Health Initiative, which sought to verify whether HRT drugs were as effective as observational studies suggested. 2,763 women with a history of heart disease were selected and randomly assigned to receive a treatment of daily estrogen pills or a placebo pill. Of the 2,763 women participating, 1,380 were assigned to the treatment condition and 1,383 to the control. They were followed for an average of three years and the number of heart attacks in the two groups was compared."
   ]
  },
  {
   "cell_type": "markdown",
   "metadata": {},
   "source": [
    "The main results table from the HERS study [Hulley et al. (1998)](https://jamanetwork.com/journals/jama/fullarticle/187879) is reproduced here:\n",
    "\n",
    "<img src=\"HERS-table.png\" width=500>"
   ]
  },
  {
   "cell_type": "markdown",
   "metadata": {},
   "source": [
    "For this study, we constructed our own table from scratch based on the results given above. The results are contained in the table `HERS` that has one row for each woman in the trial and two columns: `HRT`, which is 1 if she was assigned to treatment and 0 otherwise, and `CHD`, which is 1 if she suffered a Primary CHD (Coronary Heart Disease) event and 0 otherwise.\n",
    "\n",
    "The code below displays the resultsof the HERS study."
   ]
  },
  {
   "cell_type": "code",
   "execution_count": 13,
   "metadata": {},
   "outputs": [
    {
     "data": {
      "text/html": [
       "<table border=\"1\" class=\"dataframe\">\n",
       "    <thead>\n",
       "        <tr>\n",
       "            <th>HRT</th> <th>CHD</th>\n",
       "        </tr>\n",
       "    </thead>\n",
       "    <tbody>\n",
       "        <tr>\n",
       "            <td>0   </td> <td>0   </td>\n",
       "        </tr>\n",
       "        <tr>\n",
       "            <td>0   </td> <td>0   </td>\n",
       "        </tr>\n",
       "        <tr>\n",
       "            <td>0   </td> <td>0   </td>\n",
       "        </tr>\n",
       "    </tbody>\n",
       "</table>\n",
       "<p>... (2760 rows omitted)</p>"
      ],
      "text/plain": [
       "<IPython.core.display.HTML object>"
      ]
     },
     "metadata": {},
     "output_type": "display_data"
    }
   ],
   "source": [
    "num_control = 1383 \n",
    "num_treatment = 1380\n",
    "\n",
    "num_control_chd = 176\n",
    "num_treatment_chd = 172\n",
    "\n",
    "hrt = np.append(np.zeros(num_control), np.ones(num_treatment))\n",
    "chd_control = np.append(np.zeros(num_control - num_control_chd), np.ones(num_control_chd))\n",
    "chd_treatment = np.append(np.zeros(num_treatment - num_treatment_chd), np.ones(num_treatment_chd))\n",
    "chd = np.append(chd_control, chd_treatment)\n",
    "\n",
    "HERS = Table().with_columns('HRT', hrt, 'CHD', chd)\n",
    "HERS.show(3)"
   ]
  },
  {
   "cell_type": "markdown",
   "metadata": {},
   "source": [
    "In order to test whether HRT was shown to be an effective treatment for Heart Disease from this study, a p-value will be calculated which compared the average CHD rates between experimental groups in the study and CHD rates from random, simulated groups representing the range of all possible CHD rates due to chance. Our observed test statistic is going to measure the average CHD rates among participants as recorded in the study. It is calculated in the following block of code."
   ]
  },
  {
   "cell_type": "code",
   "execution_count": 14,
   "metadata": {},
   "outputs": [
    {
     "data": {
      "text/plain": [
       "0.0026218994624162967"
      ]
     },
     "execution_count": 14,
     "metadata": {},
     "output_type": "execute_result"
    }
   ],
   "source": [
    "def HERS_test_statistic(tbl):\n",
    "    \"\"\"Test statistic: Distance between the average responses\"\"\"\n",
    "    treatment_average = np.average(tbl.where('HRT', 1).column('CHD'))\n",
    "    control_average = np.average(tbl.where('HRT', 0).column('CHD'))\n",
    "    return abs(treatment_average - control_average)\n",
    "observed_HERS_test_statistic = HERS_test_statistic(HERS)\n",
    "observed_HERS_test_statistic"
   ]
  },
  {
   "cell_type": "markdown",
   "metadata": {},
   "source": [
    "Now, as comparison an array of simulated samples was created from the given sample and the test statistic was calculated. Then, these results are compiled into a histogram and the observed value is plotted in red for comparison. This graph shows how different the observed value is from what is likely if the null hypothesis were true. The simulation was run 2000 times to create the histogram."
   ]
  },
  {
   "cell_type": "code",
   "execution_count": 15,
   "metadata": {},
   "outputs": [],
   "source": [
    "def simulate_one_HERS_statistic():\n",
    "    new_HRT = HERS.sample(with_replacement=True).column('HRT')\n",
    "    sample_table = HERS.drop('HRT').with_column('HRT', new_HRT)\n",
    "    return HERS_test_statistic(sample_table)\n",
    "\n",
    "HERS_test_statistics = make_array()\n",
    "for i in np.arange(2000):\n",
    "    new_HERS_statistic = simulate_one_HERS_statistic()\n",
    "    HERS_test_statistics = np.append(new_HERS_statistic, HERS_test_statistics)"
   ]
  },
  {
   "cell_type": "markdown",
   "metadata": {},
   "source": [
    "The code below generates a histogram of the simulated test statistics along with the test statistic:"
   ]
  },
  {
   "cell_type": "code",
   "execution_count": 16,
   "metadata": {},
   "outputs": [
    {
     "data": {
      "image/png": "[encoded data removed]",
      "text/plain": [
       "<Figure size 432x288 with 1 Axes>"
      ]
     },
     "metadata": {},
     "output_type": "display_data"
    }
   ],
   "source": [
    "Table().with_column('Simulated test statistics', HERS_test_statistics).hist(bins=np.arange(0,.04,.003))\n",
    "plots.plot([HERS_test_statistic(HERS), HERS_test_statistic(HERS)], [0, 70], color='red', lw=2);"
   ]
  },
  {
   "cell_type": "markdown",
   "metadata": {},
   "source": [
    "The significance of the results above is quanified by calculating a p-value. This value counts the number of times the calculated test statistic is greater than or equal to the obsevred statistic and then turns this into a percentage of the total simulated samples. "
   ]
  },
  {
   "cell_type": "code",
   "execution_count": 17,
   "metadata": {},
   "outputs": [
    {
     "data": {
      "text/plain": [
       "0.8305"
      ]
     },
     "execution_count": 17,
     "metadata": {},
     "output_type": "execute_result"
    }
   ],
   "source": [
    "HERS_pval = np.count_nonzero(HERS_test_statistics >= observed_HERS_test_statistic) / 2000\n",
    "HERS_pval"
   ]
  },
  {
   "cell_type": "markdown",
   "metadata": {
    "export_pdf": true
   },
   "source": [
    "Based on the p-value and histogram generated by simulation, we fail to reject the null hypothesis: the HERS data supports the claim that HRT does not affect CHD risk. Our p-value is very high, indicating that our observed test statistic (the abs. difference between heart attacks in women receiving and not receiving HRT) is not outside of the possible outcomes which could be achieved by chance alone. The 95% confidence interval contains our null hypothesis value, so we also fail to reject the null. We have 95% confidence in the procedure for calculating the CI, meaning that in 95% of the random samples we take, the calculated CI will contain the population risk. "
   ]
  },
  {
   "cell_type": "markdown",
   "metadata": {},
   "source": [
    "The Heart and Estrogen-Progestin Replacement Study found that HRT did not have a significant impact on a woman's risk of CHD. These findings contradicted the results of the Nurses' Heart study, challenging the efficacy of a treatment that had become the standard of care for heart disease prevention. \n",
    "\n",
    "The HERS study authors put forward a possible answer regarding why the NHS study might be biased:\n",
    "> However, the observed association between estrogen therapy and reduced CHD risk might be attributable to selection bias if women who choose to take hormones are healthier and have a more favorable CHD profile than those who do not. Observational studies cannot resolve this uncertainty.\n"
   ]
  },
  {
   "cell_type": "markdown",
   "metadata": {
    "export_pdf": true
   },
   "source": [
    "One explanation for this anomoly in results is selection bias. If the women who choose to take hormones are healthier entering the study than the women who choose not to take hormones, they are going to continue to show better health throughout the study than the women who are not on hormone therapy. This confounding factor systematically biases the data in favor of the hormone therapy. Assuming this were a RCT and all variables were controlled except for this factor, these results would overesttimate the efficacy of the hormone therapy in better health outcomes. This example shows why observational studies are limited in proving a casuational association."
   ]
  }
 ],
 "metadata": {
  "kernelspec": {
   "display_name": "Python 3",
   "language": "python",
   "name": "python3"
  },
  "language_info": {
   "codemirror_mode": {
    "name": "ipython",
    "version": 3
   },
   "file_extension": ".py",
   "mimetype": "text/x-python",
   "name": "python",
   "nbconvert_exporter": "python",
   "pygments_lexer": "ipython3",
   "version": "3.8.5"
  }
 },
 "nbformat": 4,
 "nbformat_minor": 4
}
